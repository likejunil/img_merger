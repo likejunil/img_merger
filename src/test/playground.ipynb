{
 "cells": [
  {
   "cell_type": "code",
   "execution_count": 3,
   "outputs": [
    {
     "name": "stdout",
     "output_type": "stream",
     "text": [
      "|jpg| is ok\n",
      "|png| is ok\n"
     ]
    }
   ],
   "source": [
    "import os.path\n",
    "\n",
    "from conf.conf import config as conf\n",
    "\n",
    "targets = ['jpg', 'apple', 'png', 'txt', 'hwp']\n",
    "for target in targets:\n",
    "    if target.endswith(tuple(conf.recv_ext)):\n",
    "        print(f'|{target}| is ok')\n"
   ],
   "metadata": {
    "collapsed": false,
    "ExecuteTime": {
     "end_time": "2023-06-22T02:24:13.401085Z",
     "start_time": "2023-06-22T02:24:13.369927Z"
    }
   }
  },
  {
   "cell_type": "code",
   "execution_count": 3,
   "outputs": [
    {
     "name": "stdout",
     "output_type": "stream",
     "text": [
      "application-local.yml\n",
      "('/Users/june1/Downloads/application-local', '.yml')\n"
     ]
    }
   ],
   "source": [
    "import os\n",
    "\n",
    "a = '/Users/june1/Downloads/application-local.yml'\n",
    "r = os.path.basename(a)\n",
    "print(r)\n",
    "\n",
    "r = os.path.splitext(a)\n",
    "print(r)\n"
   ],
   "metadata": {
    "collapsed": false,
    "ExecuteTime": {
     "end_time": "2023-07-06T22:30:15.205525Z",
     "start_time": "2023-07-06T22:30:15.198530Z"
    }
   }
  },
  {
   "cell_type": "code",
   "execution_count": null,
   "outputs": [],
   "source": [],
   "metadata": {
    "collapsed": false
   }
  }
 ],
 "metadata": {
  "kernelspec": {
   "display_name": "Python 3",
   "language": "python",
   "name": "python3"
  },
  "language_info": {
   "codemirror_mode": {
    "name": "ipython",
    "version": 2
   },
   "file_extension": ".py",
   "mimetype": "text/x-python",
   "name": "python",
   "nbconvert_exporter": "python",
   "pygments_lexer": "ipython2",
   "version": "2.7.6"
  }
 },
 "nbformat": 4,
 "nbformat_minor": 0
}
